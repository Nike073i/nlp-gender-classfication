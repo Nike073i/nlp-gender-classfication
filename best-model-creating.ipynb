{
 "cells": [
  {
   "cell_type": "code",
   "execution_count": 1,
   "id": "2343b4ed",
   "metadata": {},
   "outputs": [
    {
     "name": "stdout",
     "output_type": "stream",
     "text": [
      "Requirement already satisfied: pandas in ./venv/lib/python3.12/site-packages (2.2.3)\n",
      "Requirement already satisfied: openpyxl in ./venv/lib/python3.12/site-packages (3.1.5)\n",
      "Requirement already satisfied: scikit-learn in ./venv/lib/python3.12/site-packages (1.6.1)\n",
      "Requirement already satisfied: numpy>=1.26.0 in ./venv/lib/python3.12/site-packages (from pandas) (1.26.4)\n",
      "Requirement already satisfied: python-dateutil>=2.8.2 in ./venv/lib/python3.12/site-packages (from pandas) (2.9.0.post0)\n",
      "Requirement already satisfied: pytz>=2020.1 in ./venv/lib/python3.12/site-packages (from pandas) (2025.2)\n",
      "Requirement already satisfied: tzdata>=2022.7 in ./venv/lib/python3.12/site-packages (from pandas) (2025.2)\n",
      "Requirement already satisfied: et-xmlfile in ./venv/lib/python3.12/site-packages (from openpyxl) (2.0.0)\n",
      "Requirement already satisfied: scipy>=1.6.0 in ./venv/lib/python3.12/site-packages (from scikit-learn) (1.13.1)\n",
      "Requirement already satisfied: joblib>=1.2.0 in ./venv/lib/python3.12/site-packages (from scikit-learn) (1.4.2)\n",
      "Requirement already satisfied: threadpoolctl>=3.1.0 in ./venv/lib/python3.12/site-packages (from scikit-learn) (3.6.0)\n",
      "Requirement already satisfied: six>=1.5 in ./venv/lib/python3.12/site-packages (from python-dateutil>=2.8.2->pandas) (1.17.0)\n",
      "Note: you may need to restart the kernel to use updated packages.\n"
     ]
    }
   ],
   "source": [
    "%pip install pandas openpyxl scikit-learn"
   ]
  },
  {
   "cell_type": "code",
   "execution_count": 2,
   "id": "6e936f49",
   "metadata": {},
   "outputs": [],
   "source": [
    "import pandas as pd\n",
    "import math\n",
    "from sklearn.model_selection import train_test_split\n",
    "from sklearn.ensemble import RandomForestClassifier\n",
    "import pickle\n",
    "\n",
    "noises_data = pd.read_excel('./data/with_noises.xlsx', index_col=0)\n",
    "\n",
    "feature_cols = [\n",
    "    'mean_usage_[URL]',\n",
    "    'mean_usage_[ADDRESS]',\n",
    "    'mean_usage_[NUMBER]', 'mean_usage_[QUOTE]',\n",
    "    'mean_usage_[PUNCEM]', 'mean_usage_[REMOVED]', 'mean_usage_,',\n",
    "    'mean_usage_!', 'mean_usage_?', 'mean_usage_:',\n",
    "    'mean_usage_-', 'mean_usage_(', 'mean_usage_)', 'mean_usage_ADJ',\n",
    "    'mean_usage_ADP', 'mean_usage_ADV',\n",
    "    'mean_usage_NOUN', 'mean_usage_DET',\n",
    "    'mean_usage_NUM', 'mean_usage_VERB',\n",
    "    'mean_usage_PART', 'mean_usage_PRON', 'mean_usage_SCONJ',\n",
    "    'mean_usage_sentence_length', 'mean_token_length',\n",
    "    'sentences_count',\n",
    "]\n",
    "target_col = 'Пол'\n",
    "\n",
    "X_train, _, y_train, _ = train_test_split(noises_data[feature_cols], noises_data[target_col], test_size=0.2)\n",
    "\n",
    "best_params = {'criterion': 'gini', 'max_depth': 6, 'max_features': 'log2', 'n_estimators': 200}\n",
    "best_model = RandomForestClassifier(**best_params)\n",
    "best_model.fit(X_train, y_train)\n",
    "\n",
    "with open('./models/rf_ursl.pkl', 'wb') as file:\n",
    "    pickle.dump(best_model, file)"
   ]
  }
 ],
 "metadata": {
  "kernelspec": {
   "display_name": "venv",
   "language": "python",
   "name": "python3"
  },
  "language_info": {
   "codemirror_mode": {
    "name": "ipython",
    "version": 3
   },
   "file_extension": ".py",
   "mimetype": "text/x-python",
   "name": "python",
   "nbconvert_exporter": "python",
   "pygments_lexer": "ipython3",
   "version": "3.12.7"
  }
 },
 "nbformat": 4,
 "nbformat_minor": 5
}
